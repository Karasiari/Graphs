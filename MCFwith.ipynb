{
  "nbformat": 4,
  "nbformat_minor": 0,
  "metadata": {
    "colab": {
      "provenance": [],
      "mount_file_id": "1zDv9YwldJXPslx51ArC-moXkjR3IZa9u",
      "authorship_tag": "ABX9TyOH+fyg5X8ooxoW4zQY46AG",
      "include_colab_link": true
    },
    "kernelspec": {
      "name": "python3",
      "display_name": "Python 3"
    },
    "language_info": {
      "name": "python"
    }
  },
  "cells": [
    {
      "cell_type": "markdown",
      "metadata": {
        "id": "view-in-github",
        "colab_type": "text"
      },
      "source": [
        "<a href=\"https://colab.research.google.com/github/Karasiari/Graphs/blob/main/MCFwith.ipynb\" target=\"_parent\"><img src=\"https://colab.research.google.com/assets/colab-badge.svg\" alt=\"Open In Colab\"/></a>"
      ]
    },
    {
      "cell_type": "code",
      "execution_count": 1,
      "metadata": {
        "colab": {
          "base_uri": "https://localhost:8080/"
        },
        "id": "nh1NbSTGVV0-",
        "outputId": "789e2dc7-0645-4cfb-f38a-2fc6740701a8"
      },
      "outputs": [
        {
          "output_type": "stream",
          "name": "stdout",
          "text": [
            "Collecting git+https://github.com/Karasiari/graphmcf.git\n",
            "  Cloning https://github.com/Karasiari/graphmcf.git to /tmp/pip-req-build-nf0hvx6r\n",
            "  Running command git clone --filter=blob:none --quiet https://github.com/Karasiari/graphmcf.git /tmp/pip-req-build-nf0hvx6r\n",
            "  Resolved https://github.com/Karasiari/graphmcf.git to commit df6ba7b4eb96acbb15f839863efc11dd155490b5\n",
            "  Installing build dependencies ... \u001b[?25l\u001b[?25hdone\n",
            "  Getting requirements to build wheel ... \u001b[?25l\u001b[?25hdone\n",
            "  Preparing metadata (pyproject.toml) ... \u001b[?25l\u001b[?25hdone\n",
            "Requirement already satisfied: numpy>=1.22 in /usr/local/lib/python3.12/dist-packages (from graphmcf==0.1.0) (2.0.2)\n",
            "Requirement already satisfied: scipy>=1.9 in /usr/local/lib/python3.12/dist-packages (from graphmcf==0.1.0) (1.16.2)\n",
            "Requirement already satisfied: networkx>=3.0 in /usr/local/lib/python3.12/dist-packages (from graphmcf==0.1.0) (3.5)\n",
            "Requirement already satisfied: matplotlib>=3.6 in /usr/local/lib/python3.12/dist-packages (from graphmcf==0.1.0) (3.10.0)\n",
            "Requirement already satisfied: pandas>=1.5 in /usr/local/lib/python3.12/dist-packages (from graphmcf==0.1.0) (2.2.2)\n",
            "Requirement already satisfied: contourpy>=1.0.1 in /usr/local/lib/python3.12/dist-packages (from matplotlib>=3.6->graphmcf==0.1.0) (1.3.3)\n",
            "Requirement already satisfied: cycler>=0.10 in /usr/local/lib/python3.12/dist-packages (from matplotlib>=3.6->graphmcf==0.1.0) (0.12.1)\n",
            "Requirement already satisfied: fonttools>=4.22.0 in /usr/local/lib/python3.12/dist-packages (from matplotlib>=3.6->graphmcf==0.1.0) (4.60.0)\n",
            "Requirement already satisfied: kiwisolver>=1.3.1 in /usr/local/lib/python3.12/dist-packages (from matplotlib>=3.6->graphmcf==0.1.0) (1.4.9)\n",
            "Requirement already satisfied: packaging>=20.0 in /usr/local/lib/python3.12/dist-packages (from matplotlib>=3.6->graphmcf==0.1.0) (25.0)\n",
            "Requirement already satisfied: pillow>=8 in /usr/local/lib/python3.12/dist-packages (from matplotlib>=3.6->graphmcf==0.1.0) (11.3.0)\n",
            "Requirement already satisfied: pyparsing>=2.3.1 in /usr/local/lib/python3.12/dist-packages (from matplotlib>=3.6->graphmcf==0.1.0) (3.2.4)\n",
            "Requirement already satisfied: python-dateutil>=2.7 in /usr/local/lib/python3.12/dist-packages (from matplotlib>=3.6->graphmcf==0.1.0) (2.9.0.post0)\n",
            "Requirement already satisfied: pytz>=2020.1 in /usr/local/lib/python3.12/dist-packages (from pandas>=1.5->graphmcf==0.1.0) (2025.2)\n",
            "Requirement already satisfied: tzdata>=2022.7 in /usr/local/lib/python3.12/dist-packages (from pandas>=1.5->graphmcf==0.1.0) (2025.2)\n",
            "Requirement already satisfied: six>=1.5 in /usr/local/lib/python3.12/dist-packages (from python-dateutil>=2.7->matplotlib>=3.6->graphmcf==0.1.0) (1.17.0)\n",
            "Building wheels for collected packages: graphmcf\n",
            "  Building wheel for graphmcf (pyproject.toml) ... \u001b[?25l\u001b[?25hdone\n",
            "  Created wheel for graphmcf: filename=graphmcf-0.1.0-py3-none-any.whl size=32953 sha256=2d66734ab0322af54bebe0d792147cfd869e99d8300de0e6cd3944d0ccc3dd54\n",
            "  Stored in directory: /tmp/pip-ephem-wheel-cache-d8pzvzp3/wheels/e2/0b/c2/f959f38e6d22c15057366b9e17b9295eb9dfc85fd11eff7962\n",
            "Successfully built graphmcf\n",
            "Installing collected packages: graphmcf\n",
            "Successfully installed graphmcf-0.1.0\n"
          ]
        }
      ],
      "source": [
        "%pip install \"git+https://github.com/Karasiari/graphmcf.git\""
      ]
    },
    {
      "cell_type": "code",
      "source": [
        "import numpy as np\n",
        "\n",
        "import cvxpy as cp\n",
        "import networkx as nx\n",
        "\n",
        "from dataclasses import dataclass\n",
        "from typing import Optional\n",
        "\n",
        "@dataclass(frozen=True)\n",
        "class Solution:\n",
        "    problem: cp.Problem\n",
        "    flow: np.ndarray\n",
        "    add_bandwidth: Optional[np.ndarray] = None\n",
        "    gamma: Optional[float] = None\n",
        "    traffic_mat: Optional[float] = None\n",
        "\n",
        "    def to_vector(self) -> np.ndarray:\n",
        "        sol_parts = [self.flow.T.flatten()]\n",
        "        if self.add_bandwidth is not None:\n",
        "            sol_parts.append(self.add_bandwidth)\n",
        "        if self.gamma is not None:\n",
        "            sol_parts.append(self.gamma)\n",
        "        return np.hstack(sol_parts)\n",
        "\n",
        "\n",
        "def vector_to_solution(graph: nx.DiGraph, vec: np.ndarray, problem_type: str):\n",
        "    m, n = graph.number_of_edges(), graph.number_of_nodes()\n",
        "    flow = vec[: m * n].reshape(n, m).T\n",
        "    add_bandwidth = None\n",
        "    gamma = None\n",
        "    if problem_type in [\"opt_network_min_cost_concurrent_flow\", \"opt_network_max_concurrent_flow\"]:\n",
        "        add_bandwidth = vec[m * n : m * n + m]\n",
        "    if problem_type in [\"max_concurrent_flow\", \"opt_network_max_concurrent_flow\"]:\n",
        "        gamma = vec[-1]\n",
        "    return Solution(problem=None, flow=flow, add_bandwidth=add_bandwidth, gamma=gamma)\n",
        "\n",
        "# Вспомогательные\n",
        "\n",
        "def get_incidence_matrix(graph: nx.DiGraph) -> np.ndarray:\n",
        "    \"\"\"\n",
        "    Construct incidence matrix\n",
        "    :param graph: nx.DiGraph,: graph with attribute cost on edges\n",
        "    :return:\n",
        "        incidence_matrix: ndarray of shape (num_nodes, num_edges), incidence matrix\n",
        "    \"\"\"\n",
        "    incidence_matrix = nx.incidence_matrix(graph, edgelist=graph.edges, oriented=True)\n",
        "    incidence_matrix = incidence_matrix.toarray()\n",
        "    return incidence_matrix\n",
        "\n",
        "def get_weights(graph: nx.DiGraph, key: str) -> np.ndarray:\n",
        "    \"\"\"\n",
        "    Extract edge weights\n",
        "    :param graph: nx.DiGraph, graph with weights on edges\n",
        "    :param key: str, name of attribute to obtain weights\n",
        "    :return:\n",
        "        weights: ndarray of shape (num_nodes), all edge weights in graph\n",
        "    \"\"\"\n",
        "    return np.array(list(nx.get_edge_attributes(graph, key).values()), dtype=np.float64)\n",
        "\n",
        "def get_var_value(var: Optional[cp.Variable]) -> Optional[float | np.ndarray]:\n",
        "    \"\"\"\n",
        "    Get cvxpy.Variable value if not None\n",
        "    :param var: cvxpy.Variable, variable to extract value\n",
        "    :return:\n",
        "        value: var.value if var is not None, else None\n",
        "    \"\"\"\n",
        "    return var.value if var is not None else None\n",
        "\n",
        "\n",
        "# Решение\n",
        "\n",
        "def solve_throughput(graph: nx.Graph, traffic_lapl: np.ndarray, **solver_kwargs) -> Solution:\n",
        "    graph = nx.DiGraph(graph)\n",
        "    incidence_mat = get_incidence_matrix(graph)\n",
        "    bandwidth = get_weights(graph, \"wieght\")\n",
        "\n",
        "    flow = cp.Variable((len(graph.edges), traffic_lapl.shape[0]))\n",
        "    gamma = cp.Variable()\n",
        "    prob = cp.Problem(\n",
        "        cp.Maximize(gamma),\n",
        "        [cp.sum(flow, axis=1) <= bandwidth, incidence_mat @ flow == -gamma * traffic_lapl.T, flow >= 0, gamma >= 0],\n",
        "    )\n",
        "    prob.solve(**solver_kwargs)\n",
        "\n",
        "    if prob.status != \"optimal\":\n",
        "        gamma = None\n",
        "\n",
        "    return Solution(problem=prob, flow=get_var_value(flow), gamma=get_var_value(gamma))"
      ],
      "metadata": {
        "id": "v1PQa0MtVaYo"
      },
      "execution_count": 9,
      "outputs": []
    },
    {
      "cell_type": "code",
      "source": [
        "import pandas as pd\n",
        "import numpy as np\n",
        "import os # Выберите, откуда тяните папку\n",
        "from google.colab import files\n",
        "\n",
        "BITRATE_DENOMINATOR = 100\n",
        "\n",
        "# По папке формируем словарь графов со структурой -\n",
        "#                                                {'название графа (как в папке)':\n",
        "#                                                       {'adj_matrix': матрица смежности взвешенного графа - веса capacity,\n",
        "#                                                        'traffic_matrix': матрица корреспонденций,\n",
        "#                                                        'nodes_params': {'degrees': список степеней вершин,\n",
        "#                                                                         'source_demands': список суммарного входящего траффика,\n",
        "#                                                                         'target_demands': список суммарного исходящего траффика,\n",
        "#                                                                         'sum_demands': список усредненного траффика (source + target) / 2\n",
        "#                                                                        }\n",
        "#                                                       }\n",
        "#                                                }\n",
        "\n",
        "def csv_to_graph(path, demands_path, capacity_path):\n",
        "  Df = pd.read_csv(path, header=None, names = ['id', 'source', 'target', 'length'])\n",
        "  Traffic = pd.read_csv(demands_path, header=None, names = ['id', 'source', 'target', 'bitrate'])\n",
        "  Capacity = pd.read_csv(capacity_path, header=None, names = ['name', 'value'])\n",
        "  df = Df.iloc[1:].copy()\n",
        "  traffic = Traffic.iloc[1:].copy()\n",
        "  capacity = Capacity.iloc[1:].copy()\n",
        "  df['source'] = df['source'].astype(int)\n",
        "  df['target'] = df['target'].astype(int)\n",
        "  #df['length'] = df['length'].astype(float)\n",
        "  traffic['source'] = traffic['source'].astype(int)\n",
        "  traffic['target'] = traffic['target'].astype(int)\n",
        "  traffic['bitrate'] = traffic['bitrate'].astype(int) // BITRATE_DENOMINATOR\n",
        "  traffic_grouped = traffic.groupby(['source', 'target']).sum().reset_index()\n",
        "  capacity_value = (float(capacity[capacity['name']=='LineRate']['value']) // BITRATE_DENOMINATOR) * int(capacity[capacity['name']=='NumberOfWavelengths']['value'])\n",
        "\n",
        "  sources = df['source'].tolist()\n",
        "  targets = df['target'].tolist()\n",
        "  lengths = df['length'].tolist()\n",
        "\n",
        "  unique_vertices = set()\n",
        "  for source, target in zip(sources, targets):\n",
        "    unique_vertices.add(source)\n",
        "    unique_vertices.add(target)\n",
        "  vertex_mapping = {old: new for new, old in enumerate(unique_vertices)}\n",
        "  num_vertices = len(unique_vertices)\n",
        "\n",
        "  adj_matrix = np.zeros((num_vertices, num_vertices))\n",
        "  traffic_matrix = np.zeros((num_vertices, num_vertices))\n",
        "\n",
        "  for source, target, length in zip(sources, targets, lengths):\n",
        "    new_source = vertex_mapping[source]\n",
        "    new_target = vertex_mapping[target]\n",
        "    #adj_matrix[new_source, new_target] = length\n",
        "    #adj_matrix[new_target, new_source] = length\n",
        "    adj_matrix[new_source, new_target] = capacity_value\n",
        "    adj_matrix[new_target, new_source] = capacity_value\n",
        "\n",
        "  traffic_grouped['source'] = traffic_grouped['source'].map(vertex_mapping)\n",
        "  traffic_grouped['target'] = traffic_grouped['target'].map(vertex_mapping)\n",
        "  for _, row in traffic_grouped.iterrows():\n",
        "    traffic_matrix[row['source'], row['target']] = row['bitrate']\n",
        "\n",
        "  nodes_params = {}\n",
        "\n",
        "  degrees = list(np.count_nonzero(adj_matrix, axis=1).astype(np.float64))\n",
        "  nodes_params['degrees'] = degrees\n",
        "\n",
        "  source_demands = list(np.sum(traffic_matrix, axis=1))\n",
        "  nodes_params['source_demands'] = source_demands\n",
        "\n",
        "  target_demands = list(np.sum(traffic_matrix, axis=0))\n",
        "  nodes_params['target_demands'] = target_demands\n",
        "\n",
        "  sum_demands = [(i + j)/2 for (i,j) in zip(source_demands, target_demands)]\n",
        "  nodes_params['sum_demands'] = sum_demands\n",
        "\n",
        "  return (adj_matrix, traffic_matrix, nodes_params)\n",
        "\n",
        "def get_graphs(base_path, specified_graphs, specified):\n",
        "  Graphs = {}\n",
        "  csv_tables = []\n",
        "  for folder_name in os.listdir(base_path):\n",
        "    if folder_name in specified_graphs or not specified:\n",
        "      folder_path = os.path.join(base_path, folder_name)\n",
        "      csv_path = os.path.join(folder_path, 'links.csv')\n",
        "      csv_path_demands = os.path.join(folder_path, 'demands.csv')\n",
        "      csv_path_capacity = os.path.join(folder_path, 'params.csv')\n",
        "      csv_tables.append(folder_name)\n",
        "\n",
        "      (adj_matrix, traffic_matrix, nodes_params) = csv_to_graph(csv_path, csv_path_demands, csv_path_capacity)\n",
        "      Graphs[folder_name] = {'adj_matrix': adj_matrix, 'traffic_matrix': traffic_matrix, 'nodes_params': nodes_params}\n",
        "\n",
        "  return Graphs\n",
        "\n",
        "path_to_folder = '/content/drive/MyDrive/Кола' # Свой путь"
      ],
      "metadata": {
        "id": "Bf87K31eVchQ"
      },
      "execution_count": 3,
      "outputs": []
    },
    {
      "cell_type": "code",
      "source": [
        "graphs_for_test_names = ['cola_t3']\n",
        "Graphs_for_test = get_graphs(path_to_folder, graphs_for_test_names, True)"
      ],
      "metadata": {
        "colab": {
          "base_uri": "https://localhost:8080/"
        },
        "id": "u9585ZcNVfTP",
        "outputId": "e2b21138-2317-4adc-f35c-bb67fc73396d"
      },
      "execution_count": 4,
      "outputs": [
        {
          "output_type": "stream",
          "name": "stderr",
          "text": [
            "/tmp/ipython-input-3803984810.py:34: FutureWarning: Calling float on a single element Series is deprecated and will raise a TypeError in the future. Use float(ser.iloc[0]) instead\n",
            "  capacity_value = (float(capacity[capacity['name']=='LineRate']['value']) // BITRATE_DENOMINATOR) * int(capacity[capacity['name']=='NumberOfWavelengths']['value'])\n",
            "/tmp/ipython-input-3803984810.py:34: FutureWarning: Calling int on a single element Series is deprecated and will raise a TypeError in the future. Use int(ser.iloc[0]) instead\n",
            "  capacity_value = (float(capacity[capacity['name']=='LineRate']['value']) // BITRATE_DENOMINATOR) * int(capacity[capacity['name']=='NumberOfWavelengths']['value'])\n"
          ]
        }
      ]
    },
    {
      "cell_type": "code",
      "source": [
        "import numpy as np\n",
        "from graphmcf import GraphMCF\n",
        "from graphmcf.demands import MCFGenerator\n",
        "from graphmcf.analysis import analyze_simple\n",
        "\n",
        "for name, graph in Graphs_for_test.items():\n",
        "  graph_for_mcf = GraphMCF(graph['adj_matrix'])\n",
        "  gen = MCFGenerator(epsilon=0.05,\n",
        "                     p_ER=0.25,\n",
        "                     distribution=\"normal\",\n",
        "                     median_weight_for_initial=40,\n",
        "                     var_for_initial=20,\n",
        "                     demands_median_denominator=2,\n",
        "                     demands_var_denominator=4,)\n",
        "  res = gen.generate(graph=graph_for_mcf, alpha_target=0.5, analysis_mode=None)\n",
        "  sol = solve_throughput(graph_for_mcf.graph, graph_for_mcf.demands_laplacian)\n",
        "  print(sol.gamma)"
      ],
      "metadata": {
        "colab": {
          "base_uri": "https://localhost:8080/",
          "height": 559
        },
        "id": "e9E3wbPkVh-Y",
        "outputId": "fec5a2b0-3f16-457d-e5aa-18e8317a1c72"
      },
      "execution_count": 10,
      "outputs": [
        {
          "output_type": "stream",
          "name": "stderr",
          "text": [
            "/usr/local/lib/python3.12/dist-packages/graphmcf/core.py:191: ComplexWarning: Casting complex values to real discards the imaginary part\n",
            "  tr = float(np.trace(L_alpha))\n"
          ]
        },
        {
          "output_type": "stream",
          "name": "stdout",
          "text": [
            "[]\n",
            "/n\n",
            "[[-1. -1. -1. ...  0.  0.  0.]\n",
            " [ 0.  0.  0. ...  0.  0.  0.]\n",
            " [ 0.  0.  0. ...  0.  0.  0.]\n",
            " ...\n",
            " [ 0.  0.  0. ...  0.  0.  0.]\n",
            " [ 0.  0.  0. ... -1.  0.  0.]\n",
            " [ 0.  0.  0. ...  0. -1. -1.]]\n"
          ]
        },
        {
          "output_type": "error",
          "ename": "ValueError",
          "evalue": "Invalid dimensions (0,).",
          "traceback": [
            "\u001b[0;31m---------------------------------------------------------------------------\u001b[0m",
            "\u001b[0;31mValueError\u001b[0m                                Traceback (most recent call last)",
            "\u001b[0;32m/tmp/ipython-input-3652189164.py\u001b[0m in \u001b[0;36m<cell line: 0>\u001b[0;34m()\u001b[0m\n\u001b[1;32m     14\u001b[0m                      demands_var_denominator=4,)\n\u001b[1;32m     15\u001b[0m   \u001b[0mres\u001b[0m \u001b[0;34m=\u001b[0m \u001b[0mgen\u001b[0m\u001b[0;34m.\u001b[0m\u001b[0mgenerate\u001b[0m\u001b[0;34m(\u001b[0m\u001b[0mgraph\u001b[0m\u001b[0;34m=\u001b[0m\u001b[0mgraph_for_mcf\u001b[0m\u001b[0;34m,\u001b[0m \u001b[0malpha_target\u001b[0m\u001b[0;34m=\u001b[0m\u001b[0;36m0.5\u001b[0m\u001b[0;34m,\u001b[0m \u001b[0manalysis_mode\u001b[0m\u001b[0;34m=\u001b[0m\u001b[0;32mNone\u001b[0m\u001b[0;34m)\u001b[0m\u001b[0;34m\u001b[0m\u001b[0;34m\u001b[0m\u001b[0m\n\u001b[0;32m---> 16\u001b[0;31m   \u001b[0msol\u001b[0m \u001b[0;34m=\u001b[0m \u001b[0msolve_throughput\u001b[0m\u001b[0;34m(\u001b[0m\u001b[0mgraph_for_mcf\u001b[0m\u001b[0;34m.\u001b[0m\u001b[0mgraph\u001b[0m\u001b[0;34m,\u001b[0m \u001b[0mgraph_for_mcf\u001b[0m\u001b[0;34m.\u001b[0m\u001b[0mdemands_laplacian\u001b[0m\u001b[0;34m)\u001b[0m\u001b[0;34m\u001b[0m\u001b[0;34m\u001b[0m\u001b[0m\n\u001b[0m\u001b[1;32m     17\u001b[0m   \u001b[0mprint\u001b[0m\u001b[0;34m(\u001b[0m\u001b[0msol\u001b[0m\u001b[0;34m.\u001b[0m\u001b[0mgamma\u001b[0m\u001b[0;34m)\u001b[0m\u001b[0;34m\u001b[0m\u001b[0;34m\u001b[0m\u001b[0m\n",
            "\u001b[0;32m/tmp/ipython-input-1889205427.py\u001b[0m in \u001b[0;36msolve_throughput\u001b[0;34m(graph, traffic_lapl, **solver_kwargs)\u001b[0m\n\u001b[1;32m     82\u001b[0m     prob = cp.Problem(\n\u001b[1;32m     83\u001b[0m         \u001b[0mcp\u001b[0m\u001b[0;34m.\u001b[0m\u001b[0mMaximize\u001b[0m\u001b[0;34m(\u001b[0m\u001b[0mgamma\u001b[0m\u001b[0;34m)\u001b[0m\u001b[0;34m,\u001b[0m\u001b[0;34m\u001b[0m\u001b[0;34m\u001b[0m\u001b[0m\n\u001b[0;32m---> 84\u001b[0;31m         \u001b[0;34m[\u001b[0m\u001b[0mcp\u001b[0m\u001b[0;34m.\u001b[0m\u001b[0msum\u001b[0m\u001b[0;34m(\u001b[0m\u001b[0mflow\u001b[0m\u001b[0;34m,\u001b[0m \u001b[0maxis\u001b[0m\u001b[0;34m=\u001b[0m\u001b[0;36m1\u001b[0m\u001b[0;34m)\u001b[0m \u001b[0;34m<=\u001b[0m \u001b[0mbandwidth\u001b[0m\u001b[0;34m,\u001b[0m \u001b[0mincidence_mat\u001b[0m \u001b[0;34m@\u001b[0m \u001b[0mflow\u001b[0m \u001b[0;34m==\u001b[0m \u001b[0;34m-\u001b[0m\u001b[0mgamma\u001b[0m \u001b[0;34m*\u001b[0m \u001b[0mtraffic_lapl\u001b[0m\u001b[0;34m.\u001b[0m\u001b[0mT\u001b[0m\u001b[0;34m,\u001b[0m \u001b[0mflow\u001b[0m \u001b[0;34m>=\u001b[0m \u001b[0;36m0\u001b[0m\u001b[0;34m,\u001b[0m \u001b[0mgamma\u001b[0m \u001b[0;34m>=\u001b[0m \u001b[0;36m0\u001b[0m\u001b[0;34m]\u001b[0m\u001b[0;34m,\u001b[0m\u001b[0;34m\u001b[0m\u001b[0;34m\u001b[0m\u001b[0m\n\u001b[0m\u001b[1;32m     85\u001b[0m     )\n\u001b[1;32m     86\u001b[0m     \u001b[0mprob\u001b[0m\u001b[0;34m.\u001b[0m\u001b[0msolve\u001b[0m\u001b[0;34m(\u001b[0m\u001b[0;34m**\u001b[0m\u001b[0msolver_kwargs\u001b[0m\u001b[0;34m)\u001b[0m\u001b[0;34m\u001b[0m\u001b[0;34m\u001b[0m\u001b[0m\n",
            "\u001b[0;32m/usr/local/lib/python3.12/dist-packages/cvxpy/expressions/expression.py\u001b[0m in \u001b[0;36mcast_op\u001b[0;34m(self, other)\u001b[0m\n\u001b[1;32m     48\u001b[0m         \"\"\"A wrapped binary operator that can handle non-Expression arguments.\n\u001b[1;32m     49\u001b[0m         \"\"\"\n\u001b[0;32m---> 50\u001b[0;31m         \u001b[0mother\u001b[0m \u001b[0;34m=\u001b[0m \u001b[0mself\u001b[0m\u001b[0;34m.\u001b[0m\u001b[0mcast_to_const\u001b[0m\u001b[0;34m(\u001b[0m\u001b[0mother\u001b[0m\u001b[0;34m)\u001b[0m\u001b[0;34m\u001b[0m\u001b[0;34m\u001b[0m\u001b[0m\n\u001b[0m\u001b[1;32m     51\u001b[0m         \u001b[0;32mreturn\u001b[0m \u001b[0mbinary_op\u001b[0m\u001b[0;34m(\u001b[0m\u001b[0mself\u001b[0m\u001b[0;34m,\u001b[0m \u001b[0mother\u001b[0m\u001b[0;34m)\u001b[0m\u001b[0;34m\u001b[0m\u001b[0;34m\u001b[0m\u001b[0m\n\u001b[1;32m     52\u001b[0m     \u001b[0;32mreturn\u001b[0m \u001b[0mcast_op\u001b[0m\u001b[0;34m\u001b[0m\u001b[0;34m\u001b[0m\u001b[0m\n",
            "\u001b[0;32m/usr/local/lib/python3.12/dist-packages/cvxpy/expressions/expression.py\u001b[0m in \u001b[0;36mcast_to_const\u001b[0;34m(expr)\u001b[0m\n\u001b[1;32m    577\u001b[0m                         \u001b[0;34m\"Combine Expressions using atoms such as bmat, hstack, and vstack.\"\u001b[0m\u001b[0;34m\u001b[0m\u001b[0;34m\u001b[0m\u001b[0m\n\u001b[1;32m    578\u001b[0m                     )\n\u001b[0;32m--> 579\u001b[0;31m         \u001b[0;32mreturn\u001b[0m \u001b[0mexpr\u001b[0m \u001b[0;32mif\u001b[0m \u001b[0misinstance\u001b[0m\u001b[0;34m(\u001b[0m\u001b[0mexpr\u001b[0m\u001b[0;34m,\u001b[0m \u001b[0mExpression\u001b[0m\u001b[0;34m)\u001b[0m \u001b[0;32melse\u001b[0m \u001b[0mcvxtypes\u001b[0m\u001b[0;34m.\u001b[0m\u001b[0mconstant\u001b[0m\u001b[0;34m(\u001b[0m\u001b[0;34m)\u001b[0m\u001b[0;34m(\u001b[0m\u001b[0mexpr\u001b[0m\u001b[0;34m)\u001b[0m\u001b[0;34m\u001b[0m\u001b[0;34m\u001b[0m\u001b[0m\n\u001b[0m\u001b[1;32m    580\u001b[0m \u001b[0;34m\u001b[0m\u001b[0m\n\u001b[1;32m    581\u001b[0m     \u001b[0;34m@\u001b[0m\u001b[0mstaticmethod\u001b[0m\u001b[0;34m\u001b[0m\u001b[0;34m\u001b[0m\u001b[0m\n",
            "\u001b[0;32m/usr/local/lib/python3.12/dist-packages/cvxpy/expressions/constants/constant.py\u001b[0m in \u001b[0;36m__init__\u001b[0;34m(self, value, name)\u001b[0m\n\u001b[1;32m     64\u001b[0m         \u001b[0mself\u001b[0m\u001b[0;34m.\u001b[0m\u001b[0m_skew_symm\u001b[0m \u001b[0;34m=\u001b[0m \u001b[0;32mNone\u001b[0m\u001b[0;34m\u001b[0m\u001b[0;34m\u001b[0m\u001b[0m\n\u001b[1;32m     65\u001b[0m         \u001b[0mself\u001b[0m\u001b[0;34m.\u001b[0m\u001b[0m_name\u001b[0m \u001b[0;34m=\u001b[0m \u001b[0mname\u001b[0m\u001b[0;34m\u001b[0m\u001b[0;34m\u001b[0m\u001b[0m\n\u001b[0;32m---> 66\u001b[0;31m         \u001b[0msuper\u001b[0m\u001b[0;34m(\u001b[0m\u001b[0mConstant\u001b[0m\u001b[0;34m,\u001b[0m \u001b[0mself\u001b[0m\u001b[0;34m)\u001b[0m\u001b[0;34m.\u001b[0m\u001b[0m__init__\u001b[0m\u001b[0;34m(\u001b[0m\u001b[0mintf\u001b[0m\u001b[0;34m.\u001b[0m\u001b[0mshape\u001b[0m\u001b[0;34m(\u001b[0m\u001b[0mself\u001b[0m\u001b[0;34m.\u001b[0m\u001b[0mvalue\u001b[0m\u001b[0;34m)\u001b[0m\u001b[0;34m)\u001b[0m\u001b[0;34m\u001b[0m\u001b[0;34m\u001b[0m\u001b[0m\n\u001b[0m\u001b[1;32m     67\u001b[0m \u001b[0;34m\u001b[0m\u001b[0m\n\u001b[1;32m     68\u001b[0m     \u001b[0;32mdef\u001b[0m \u001b[0mname\u001b[0m\u001b[0;34m(\u001b[0m\u001b[0mself\u001b[0m\u001b[0;34m)\u001b[0m \u001b[0;34m->\u001b[0m \u001b[0mstr\u001b[0m\u001b[0;34m:\u001b[0m\u001b[0;34m\u001b[0m\u001b[0;34m\u001b[0m\u001b[0m\n",
            "\u001b[0;32m/usr/local/lib/python3.12/dist-packages/cvxpy/expressions/leaf.py\u001b[0m in \u001b[0;36m__init__\u001b[0;34m(self, shape, value, nonneg, nonpos, complex, imag, symmetric, diag, PSD, NSD, hermitian, boolean, integer, sparsity, pos, neg, bounds)\u001b[0m\n\u001b[1;32m    111\u001b[0m         \u001b[0;32mfor\u001b[0m \u001b[0md\u001b[0m \u001b[0;32min\u001b[0m \u001b[0mshape\u001b[0m\u001b[0;34m:\u001b[0m\u001b[0;34m\u001b[0m\u001b[0;34m\u001b[0m\u001b[0m\n\u001b[1;32m    112\u001b[0m             \u001b[0;32mif\u001b[0m \u001b[0;32mnot\u001b[0m \u001b[0misinstance\u001b[0m\u001b[0;34m(\u001b[0m\u001b[0md\u001b[0m\u001b[0;34m,\u001b[0m \u001b[0mnumbers\u001b[0m\u001b[0;34m.\u001b[0m\u001b[0mIntegral\u001b[0m\u001b[0;34m)\u001b[0m \u001b[0;32mor\u001b[0m \u001b[0md\u001b[0m \u001b[0;34m<=\u001b[0m \u001b[0;36m0\u001b[0m\u001b[0;34m:\u001b[0m\u001b[0;34m\u001b[0m\u001b[0;34m\u001b[0m\u001b[0m\n\u001b[0;32m--> 113\u001b[0;31m                 \u001b[0;32mraise\u001b[0m \u001b[0mValueError\u001b[0m\u001b[0;34m(\u001b[0m\u001b[0;34m\"Invalid dimensions %s.\"\u001b[0m \u001b[0;34m%\u001b[0m \u001b[0;34m(\u001b[0m\u001b[0mshape\u001b[0m\u001b[0;34m,\u001b[0m\u001b[0;34m)\u001b[0m\u001b[0;34m)\u001b[0m\u001b[0;34m\u001b[0m\u001b[0;34m\u001b[0m\u001b[0m\n\u001b[0m\u001b[1;32m    114\u001b[0m         \u001b[0mshape\u001b[0m \u001b[0;34m=\u001b[0m \u001b[0mtuple\u001b[0m\u001b[0;34m(\u001b[0m\u001b[0mshape\u001b[0m\u001b[0;34m)\u001b[0m\u001b[0;34m\u001b[0m\u001b[0;34m\u001b[0m\u001b[0m\n\u001b[1;32m    115\u001b[0m         \u001b[0mself\u001b[0m\u001b[0;34m.\u001b[0m\u001b[0m_shape\u001b[0m \u001b[0;34m=\u001b[0m \u001b[0mshape\u001b[0m\u001b[0;34m\u001b[0m\u001b[0;34m\u001b[0m\u001b[0m\n",
            "\u001b[0;31mValueError\u001b[0m: Invalid dimensions (0,)."
          ]
        }
      ]
    },
    {
      "cell_type": "code",
      "source": [
        "graph_for_mcf.graph.edges"
      ],
      "metadata": {
        "colab": {
          "base_uri": "https://localhost:8080/"
        },
        "id": "_dGAn87hYB3J",
        "outputId": "9da762e4-6aa9-463e-9d18-ce0fc0026d0a"
      },
      "execution_count": 19,
      "outputs": [
        {
          "output_type": "execute_result",
          "data": {
            "text/plain": [
              "EdgeView([(0, 4), (0, 12), (0, 13), (0, 15), (1, 4), (1, 5), (1, 7), (1, 8), (2, 7), (2, 10), (2, 16), (2, 17), (3, 5), (3, 12), (3, 13), (3, 16), (4, 15), (4, 16), (4, 18), (5, 16), (5, 17), (6, 11), (6, 15), (6, 19), (6, 20), (7, 10), (8, 11), (8, 14), (9, 10), (9, 17), (11, 18), (12, 19), (14, 20)])"
            ]
          },
          "metadata": {},
          "execution_count": 19
        }
      ]
    },
    {
      "cell_type": "code",
      "source": [
        "graph_for_mcf.adjacency_matrix"
      ],
      "metadata": {
        "colab": {
          "base_uri": "https://localhost:8080/",
          "height": 148
        },
        "id": "H6O3o_oFYwBg",
        "outputId": "a6563847-77c5-4c3d-e848-c7bae4f3eed1"
      },
      "execution_count": 20,
      "outputs": [
        {
          "output_type": "error",
          "ename": "ValueError",
          "evalue": "The truth value of an array with more than one element is ambiguous. Use a.any() or a.all()",
          "traceback": [
            "\u001b[0;31m---------------------------------------------------------------------------\u001b[0m",
            "\u001b[0;31mValueError\u001b[0m                                Traceback (most recent call last)",
            "\u001b[0;32m/tmp/ipython-input-648900175.py\u001b[0m in \u001b[0;36m<cell line: 0>\u001b[0;34m()\u001b[0m\n\u001b[0;32m----> 1\u001b[0;31m \u001b[0mmax\u001b[0m\u001b[0;34m(\u001b[0m\u001b[0mgraph_for_mcf\u001b[0m\u001b[0;34m.\u001b[0m\u001b[0madjacency_matrix\u001b[0m\u001b[0;34m)\u001b[0m\u001b[0;34m\u001b[0m\u001b[0;34m\u001b[0m\u001b[0m\n\u001b[0m",
            "\u001b[0;31mValueError\u001b[0m: The truth value of an array with more than one element is ambiguous. Use a.any() or a.all()"
          ]
        }
      ]
    }
  ]
}