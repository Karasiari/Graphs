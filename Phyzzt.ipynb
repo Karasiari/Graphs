{
  "nbformat": 4,
  "nbformat_minor": 0,
  "metadata": {
    "colab": {
      "provenance": [],
      "authorship_tag": "ABX9TyMX7/M99zrcEA+3Jb/PUqDL",
      "include_colab_link": true
    },
    "kernelspec": {
      "name": "python3",
      "display_name": "Python 3"
    },
    "language_info": {
      "name": "python"
    }
  },
  "cells": [
    {
      "cell_type": "markdown",
      "metadata": {
        "id": "view-in-github",
        "colab_type": "text"
      },
      "source": [
        "<a href=\"https://colab.research.google.com/github/Karasiari/Graphs/blob/main/Phyzzt.ipynb\" target=\"_parent\"><img src=\"https://colab.research.google.com/assets/colab-badge.svg\" alt=\"Open In Colab\"/></a>"
      ]
    },
    {
      "cell_type": "code",
      "execution_count": 1,
      "metadata": {
        "colab": {
          "base_uri": "https://localhost:8080/"
        },
        "id": "T7C_CUG5p02E",
        "outputId": "be7206e4-1b2d-4c83-b675-43898911c709"
      },
      "outputs": [
        {
          "output_type": "stream",
          "name": "stdout",
          "text": [
            "Requirement already satisfied: networkx in /usr/local/lib/python3.11/dist-packages (3.4.2)\n"
          ]
        }
      ],
      "source": [
        "pip install networkx"
      ]
    },
    {
      "cell_type": "code",
      "source": [
        "import networkx as netx\n",
        "import pandas as pd\n",
        "import numpy as np\n",
        "import os\n",
        "\n",
        "from networkx import *\n",
        "\n",
        "def excel_to_graph(path):\n",
        "  df = pd.read_excel(path, sheet_name = 1)\n",
        "\n",
        "  max_vertex = max(df['Source'].max(), df['Destination'].max())\n",
        "\n",
        "  adjacency_matrix = np.zeros((max_vertex, max_vertex))\n",
        "\n",
        "  for index, row in df.iterrows():\n",
        "    start_vertex = int(row['Source']) - 1\n",
        "    end_vertex = int(row['Destination']) - 1\n",
        "    weight = row['Computed Length (km)']\n",
        "    adjacency_matrix[start_vertex][end_vertex] = weight\n",
        "    adjacency_matrix[end_vertex][start_vertex] = weight\n",
        "\n",
        "  return adjacency_matrix\n",
        "\n",
        "def graph_topology(graph):\n",
        "\n",
        "  topology = []\n",
        "\n",
        "  num_nodes = graph.number_of_nodes()\n",
        "  topology.append(num_nodes)\n",
        "\n",
        "  num_edges = graph.number_of_edges()\n",
        "  topology.append(num_edges)\n",
        "\n",
        "  degrees = graph.degree()\n",
        "  avg_degree = np.mean(graph.degree(), axis = 0)[1]\n",
        "  topology.append(avg_degree)\n",
        "\n",
        "  diameter = netx.diameter(graph)\n",
        "  topology.append(diameter)\n",
        "\n",
        "  edge_density = netx.density(graph)\n",
        "  topology.append(edge_density)\n",
        "\n",
        "  avg_shortest_path_length = netx.average_shortest_path_length(graph)\n",
        "  topology.append(avg_shortest_path_length)\n",
        "\n",
        "  avg_clustering_coefficient = netx.average_clustering(graph)\n",
        "  topology.append(avg_clustering_coefficient)\n",
        "\n",
        "  local_clustering = list(netx.clustering(graph).values())\n",
        "  std_clustering_coefficient = np.std(local_clustering)\n",
        "  topology.append(std_clustering_coefficient)\n",
        "\n",
        "  node_betweenness = list(netx.betweenness_centrality(graph).values())\n",
        "  min_node_betweenness = min(node_betweenness)\n",
        "  topology.append(min_node_betweenness)\n",
        "  max_node_betweenness = max(node_betweenness)\n",
        "  topology.append(max_node_betweenness)\n",
        "  avg_node_betweenness = sum(node_betweenness) / num_nodes\n",
        "  topology.append(avg_node_betweenness)\n",
        "\n",
        "  edge_betweenness = list(netx.edge_betweenness_centrality(graph).values())\n",
        "  min_edge_betweenness = min(edge_betweenness)\n",
        "  topology.append(min_edge_betweenness)\n",
        "  max_edge_betweenness = max(edge_betweenness)\n",
        "  topology.append(max_edge_betweenness)\n",
        "  avg_edge_betweenness = sum(edge_betweenness) / num_edges\n",
        "  topology.append(avg_edge_betweenness)\n",
        "\n",
        "  return topology\n",
        "\n",
        "def folder_to_graphs(path_to_folder):\n",
        "  files = os.listdir(path_to_folder)\n",
        "  Output = []\n",
        "  excel_tables = []\n",
        "  for file in files:\n",
        "    if file.endswith('.xlsx'):\n",
        "      excel_file_path = os.path.join(path_to_folder, file)\n",
        "      excel_tables.append(file[:-5])\n",
        "\n",
        "      adjacency_matrix = excel_to_graph(excel_file_path)\n",
        "      graph = netx.from_numpy_array(adjacency_matrix)\n",
        "\n",
        "      Output.append(graph_topology(graph))\n",
        "\n",
        "  labels = ['Number of Nodes', 'Number of Edges', 'Average Node Degree', 'Diameter(hops)', 'Edge Density (Physical Connectivity)', 'Average Shortest Path Length (Hops)', 'Average Clustering Coefficient', 'Standard Deviation of Clustering Coefficient', 'Minimum Node Betweenness Centrality', 'Maximum Node Betweenness Centrality', 'Average Node Betweenness Centrality', 'Minimum Edge Betweenness Centrality', 'Maximum Edge Betweenness Centrality', 'Average Edge Betweenness Centrality']\n",
        "  Table = pd.DataFrame(Output, index = excel_tables ,columns = labels)\n",
        "  return Table\n",
        "\n",
        "path_to_folder = '/content/Тест'\n",
        "Table = folder_to_graphs(path_to_folder)\n",
        "print(Table)"
      ],
      "metadata": {
        "colab": {
          "base_uri": "https://localhost:8080/"
        },
        "id": "-EAmochnqFSW",
        "outputId": "b921f743-b2d5-4e21-f1db-70b7d034f660"
      },
      "execution_count": 26,
      "outputs": [
        {
          "output_type": "stream",
          "name": "stdout",
          "text": [
            "              Number of Nodes  Number of Edges  Average Node Degree  \\\n",
            "TOP_97_SANET               46               55             2.391304   \n",
            "\n",
            "              Diameter(hops)  Edge Density (Physical Connectivity)  \\\n",
            "TOP_97_SANET              13                               0.05314   \n",
            "\n",
            "              Average Shortest Path Length (Hops)  \\\n",
            "TOP_97_SANET                              5.44058   \n",
            "\n",
            "              Average Clustering Coefficient  \\\n",
            "TOP_97_SANET                        0.105072   \n",
            "\n",
            "              Standard Deviation of Clustering Coefficient  \\\n",
            "TOP_97_SANET                                      0.255657   \n",
            "\n",
            "              Minimum Node Betweenness Centrality  \\\n",
            "TOP_97_SANET                                  0.0   \n",
            "\n",
            "              Maximum Node Betweenness Centrality  \\\n",
            "TOP_97_SANET                             0.358215   \n",
            "\n",
            "              Average Node Betweenness Centrality  \\\n",
            "TOP_97_SANET                             0.100922   \n",
            "\n",
            "              Minimum Edge Betweenness Centrality  \\\n",
            "TOP_97_SANET                             0.015942   \n",
            "\n",
            "              Maximum Edge Betweenness Centrality  \\\n",
            "TOP_97_SANET                             0.263897   \n",
            "\n",
            "              Average Edge Betweenness Centrality  \n",
            "TOP_97_SANET                              0.09892  \n"
          ]
        }
      ]
    }
  ]
}