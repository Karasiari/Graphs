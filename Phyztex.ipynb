{
  "cells": [
    {
      "cell_type": "markdown",
      "metadata": {
        "id": "view-in-github",
        "colab_type": "text"
      },
      "source": [
        "<a href=\"https://colab.research.google.com/github/Karasiari/Graphs/blob/main/Phyztex.ipynb\" target=\"_parent\"><img src=\"https://colab.research.google.com/assets/colab-badge.svg\" alt=\"Open In Colab\"/></a>"
      ]
    },
    {
      "cell_type": "code",
      "execution_count": 3,
      "metadata": {
        "colab": {
          "base_uri": "https://localhost:8080/"
        },
        "id": "CGin5JTNYKg0",
        "outputId": "552d4c46-4051-4bc7-a70f-5ea57305fad5"
      },
      "outputs": [
        {
          "output_type": "stream",
          "name": "stdout",
          "text": [
            "Collecting igraph\n",
            "  Downloading igraph-0.11.8-cp39-abi3-manylinux_2_17_x86_64.manylinux2014_x86_64.whl.metadata (3.8 kB)\n",
            "Collecting texttable>=1.6.2 (from igraph)\n",
            "  Downloading texttable-1.7.0-py2.py3-none-any.whl.metadata (9.8 kB)\n",
            "Downloading igraph-0.11.8-cp39-abi3-manylinux_2_17_x86_64.manylinux2014_x86_64.whl (3.1 MB)\n",
            "\u001b[2K   \u001b[90m━━━━━━━━━━━━━━━━━━━━━━━━━━━━━━━━━━━━━━━━\u001b[0m \u001b[32m3.1/3.1 MB\u001b[0m \u001b[31m38.9 MB/s\u001b[0m eta \u001b[36m0:00:00\u001b[0m\n",
            "\u001b[?25hDownloading texttable-1.7.0-py2.py3-none-any.whl (10 kB)\n",
            "Installing collected packages: texttable, igraph\n",
            "Successfully installed igraph-0.11.8 texttable-1.7.0\n"
          ]
        }
      ],
      "source": [
        "pip install igraph"
      ]
    },
    {
      "cell_type": "code",
      "source": [
        "import igraph\n",
        "import pandas as pd\n",
        "import numpy as np\n",
        "import os\n",
        "\n",
        "from igraph import *\n",
        "\n",
        "def excel_to_graph(path):\n",
        "  df = pd.read_excel(path, sheet_name = 1)\n",
        "\n",
        "  max_vertex = max(df['Source'].max(), df['Destination'].max())\n",
        "\n",
        "  adjacency_matrix = np.zeros((max_vertex, max_vertex))\n",
        "\n",
        "  for index, row in df.iterrows():\n",
        "    start_vertex = row['Source'] - 1\n",
        "    end_vertex = row['Destination'] - 1\n",
        "    weight = row['Computed Length (km)']\n",
        "    adjacency_matrix[start_vertex][end_vertex] = weight\n",
        "    adjacency_matrix[end_vertex][start_vertex] = weight\n",
        "\n",
        "  return adjacency_matrix\n",
        "\n",
        "def find_graph_topology(graph):\n",
        "\n",
        "  num_nodes = graph.vcount()\n",
        "\n",
        "  num_edges = graph.ecount()\n",
        "\n",
        "  avg_degree = mean(graph.degree())\n",
        "\n",
        "  norm_avg_degree = avg_degree / (num_nodes - 1)\n",
        "\n",
        "  diameter = graph.diameter()\n",
        "\n",
        "  edge_density = graph.density()\n",
        "\n",
        "  avg_shortest_path_length = graph.average_path_length()\n",
        "\n",
        "  shortest_paths = graph.shortest_paths()\n",
        "  flattened_paths = [path for sublist in shortest_paths for path in sublist]\n",
        "  std_shortest_path_length = np.std(flattened_paths)\n",
        "\n",
        "  avg_clustering_coefficient = graph.transitivity_undirected()\n",
        "\n",
        "  vertex_betweenness = graph.betweenness()\n",
        "  min_vertex_betweenneess = min(vertex_betweenness)\n",
        "  max_vertex_betweenneess = max(vertex_betweenness)\n",
        "  avg_vertex_betweenneess = sum(vertex_betweenness) / len(vertex_betweenness)\n",
        "\n",
        "  edge_betweenness = graph.edge_betweenness()\n",
        "  min_edge_betweenneess = min(edge_betweenness)\n",
        "  max_edge_betweenneess = max(edge_betweenness)\n",
        "  avg_edge_betweenneess = sum(edge_betweenness) / len(edge_betweenness)\n",
        "\n",
        "  return [num_nodes, num_edges, avg_degree, norm_avg_degree, diameter, edge_density, avg_shortest_path_length, std_shortest_path_length, avg_clustering_coefficient, min_vertex_betweenneess, max_vertex_betweenneess, avg_vertex_betweenneess, min_edge_betweenneess, max_edge_betweenneess, avg_edge_betweenneess]\n",
        "\n",
        "def folder_to_graphs(path_to_folder):\n",
        "  files = os.listdir(path_to_folder)\n",
        "  Output = []\n",
        "  for file in files:\n",
        "    if file.endswith('.xlsx'):\n",
        "      excel_file_path = os.path.join(path_to_folder, file)\n",
        "\n",
        "      adjacency_matrix = excel_to_graph(excel_file_path)\n",
        "      graph = igraph.Graph.Weighted_Adjacency(adjacency_matrix, mode = 'undirected')\n",
        "\n",
        "      Output.append(find_graph_topology(graph))\n",
        "\n",
        "  labels = ['Number of Nodes', 'Number of Edges', 'Average Node Degree', 'Normalized Average Node Degree',\t 'Diameter(hops)', 'Edge Density (Physical Connectivity)', 'Average Shortest Path Length (Hops)', 'Standard Deviation of Shortest Path Length (Hops)', 'Average Clustering Coefficient', 'Minimum Node Betweenness Centrality', 'Maximum Node Betweenness Centrality', 'Average Node Betweenness Centrality', 'Minimum Edge Betweenness Centrality', 'Maximum Edge Betweenness Centrality', 'Average Edge Betweenness Centrality']\n",
        "  Table = pd.DataFrame(Output, columns = labels)\n",
        "  return Table\n",
        "\n",
        "path_to_folder = '/content/Тест'\n",
        "Table = folder_to_graphs(path_to_folder)\n",
        "print(Table)"
      ],
      "metadata": {
        "colab": {
          "base_uri": "https://localhost:8080/"
        },
        "id": "V24nSQRAViM5",
        "outputId": "7c506055-c0fa-4680-bd07-c8b96f1c1005"
      },
      "execution_count": 65,
      "outputs": [
        {
          "output_type": "stream",
          "name": "stdout",
          "text": [
            "   Number of Nodes  Number of Edges  Average Node Degree  \\\n",
            "0               46               55             2.391304   \n",
            "1               63               93             2.952381   \n",
            "2               10               13             2.600000   \n",
            "\n",
            "   Normalized Average Node Degree  Diameter(hops)  \\\n",
            "0                        0.053140              13   \n",
            "1                        0.047619              15   \n",
            "2                        0.288889               5   \n",
            "\n",
            "   Edge Density (Physical Connectivity)  Average Shortest Path Length (Hops)  \\\n",
            "0                              0.053140                             5.440580   \n",
            "1                              0.047619                             5.946237   \n",
            "2                              0.288889                             2.333333   \n",
            "\n",
            "   Standard Deviation of Shortest Path Length (Hops)  \\\n",
            "0                                           2.793642   \n",
            "1                                           2.989310   \n",
            "2                                           1.300000   \n",
            "\n",
            "   Average Clustering Coefficient  Minimum Node Betweenness Centrality  \\\n",
            "0                        0.113208                                  0.0   \n",
            "1                        0.240000                                  0.0   \n",
            "2                        0.130435                                  0.5   \n",
            "\n",
            "   Maximum Node Betweenness Centrality  Average Node Betweenness Centrality  \\\n",
            "0                           354.633333                            99.913043   \n",
            "1                           811.061905                           153.333333   \n",
            "2                            20.833333                             6.000000   \n",
            "\n",
            "   Minimum Edge Betweenness Centrality  Maximum Edge Betweenness Centrality  \\\n",
            "0                                 16.5                           273.133333   \n",
            "1                                  2.0                           618.787302   \n",
            "2                                  2.0                            16.666667   \n",
            "\n",
            "   Average Edge Betweenness Centrality  \n",
            "0                           102.381818  \n",
            "1                           124.870968  \n",
            "2                             8.076923  \n"
          ]
        },
        {
          "output_type": "stream",
          "name": "stderr",
          "text": [
            "<ipython-input-65-3e84fe1e37fc>:40: DeprecationWarning: Graph.shortest_paths() is deprecated; use Graph.distances() instead\n",
            "  shortest_paths = graph.shortest_paths()\n",
            "<ipython-input-65-3e84fe1e37fc>:40: DeprecationWarning: Graph.shortest_paths() is deprecated; use Graph.distances() instead\n",
            "  shortest_paths = graph.shortest_paths()\n",
            "<ipython-input-65-3e84fe1e37fc>:40: DeprecationWarning: Graph.shortest_paths() is deprecated; use Graph.distances() instead\n",
            "  shortest_paths = graph.shortest_paths()\n"
          ]
        }
      ]
    }
  ],
  "metadata": {
    "colab": {
      "provenance": [],
      "authorship_tag": "ABX9TyO2C24IdbTcu9IWadtx/cSw",
      "include_colab_link": true
    },
    "kernelspec": {
      "display_name": "Python 3",
      "name": "python3"
    },
    "language_info": {
      "name": "python"
    }
  },
  "nbformat": 4,
  "nbformat_minor": 0
}