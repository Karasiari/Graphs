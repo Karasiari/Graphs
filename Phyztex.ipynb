{
  "cells": [
    {
      "cell_type": "markdown",
      "metadata": {
        "id": "view-in-github",
        "colab_type": "text"
      },
      "source": [
        "<a href=\"https://colab.research.google.com/github/Karasiari/Graphs/blob/main/Phyztex.ipynb\" target=\"_parent\"><img src=\"https://colab.research.google.com/assets/colab-badge.svg\" alt=\"Open In Colab\"/></a>"
      ]
    },
    {
      "cell_type": "code",
      "execution_count": 3,
      "metadata": {
        "colab": {
          "base_uri": "https://localhost:8080/"
        },
        "id": "CGin5JTNYKg0",
        "outputId": "552d4c46-4051-4bc7-a70f-5ea57305fad5"
      },
      "outputs": [
        {
          "output_type": "stream",
          "name": "stdout",
          "text": [
            "Collecting igraph\n",
            "  Downloading igraph-0.11.8-cp39-abi3-manylinux_2_17_x86_64.manylinux2014_x86_64.whl.metadata (3.8 kB)\n",
            "Collecting texttable>=1.6.2 (from igraph)\n",
            "  Downloading texttable-1.7.0-py2.py3-none-any.whl.metadata (9.8 kB)\n",
            "Downloading igraph-0.11.8-cp39-abi3-manylinux_2_17_x86_64.manylinux2014_x86_64.whl (3.1 MB)\n",
            "\u001b[2K   \u001b[90m━━━━━━━━━━━━━━━━━━━━━━━━━━━━━━━━━━━━━━━━\u001b[0m \u001b[32m3.1/3.1 MB\u001b[0m \u001b[31m38.9 MB/s\u001b[0m eta \u001b[36m0:00:00\u001b[0m\n",
            "\u001b[?25hDownloading texttable-1.7.0-py2.py3-none-any.whl (10 kB)\n",
            "Installing collected packages: texttable, igraph\n",
            "Successfully installed igraph-0.11.8 texttable-1.7.0\n"
          ]
        }
      ],
      "source": [
        "pip install igraph"
      ]
    },
    {
      "cell_type": "code",
      "source": [
        "import igraph\n",
        "import pandas as pd\n",
        "import numpy as np\n",
        "\n",
        "from igraph import *\n",
        "\n",
        "def excel_to_graph(path):\n",
        "  df = pd.read_excel(path, sheet_name = 1)\n",
        "\n",
        "  max_vertex = max(df['Source'].max(), df['Destination'].max())\n",
        "\n",
        "  adjacency_matrix = np.zeros((max_vertex, max_vertex))\n",
        "\n",
        "  for index, row in df.iterrows():\n",
        "    start_vertex = row['Source'] - 1\n",
        "    end_vertex = row['Destination'] - 1\n",
        "    weight = row['Computed Length (km)']\n",
        "    adjacency_matrix[start_vertex][end_vertex] = weight\n",
        "    adjacency_matrix[end_vertex][start_vertex] = weight\n",
        "\n",
        "  return adjacency_matrix\n",
        "\n",
        "def find_graph_topology(graph):\n",
        "  num_nodes = graph.vcount()\n",
        "  num_edges = graph.ecount()\n",
        "  avg_degree = mean(graph.degree())\n",
        "  diameter = graph.diameter()\n",
        "  edge_density = graph.density()\n",
        "  avg_shortest_path_length = graph.average_path_length()\n",
        "  avg_clustering_coefficient = graph.transitivity_undirected()\n",
        "  return [num_nodes, num_edges, avg_degree, diameter, edge_density, avg_shortest_path_length, avg_clustering_coefficient]\n",
        "\n",
        "excel_file_path = 'TOP_97_SANET.xlsx'\n",
        "adjacency_matrix = excel_to_graph(excel_file_path)\n",
        "\n",
        "graph = igraph.Graph.Weighted_Adjacency(adjacency_matrix, mode = 'undirected')\n",
        "\n",
        "output = find_graph_topology(graph)\n",
        "labels = ['Number of Nodes: ', 'Number of Edges: ', 'Average Node Degree: ', 'Diameter(hops): ', 'Edge Density (Physical Connectivity): ', 'Average Shortest Path Length (Hops): ', 'Average Clustering Coefficient: ']\n",
        "for i in range(len(labels)):\n",
        "  print(labels[i], output[i])"
      ],
      "metadata": {
        "colab": {
          "base_uri": "https://localhost:8080/"
        },
        "id": "V24nSQRAViM5",
        "outputId": "7971ae65-18a7-450c-99db-e0661f6001b9"
      },
      "execution_count": 53,
      "outputs": [
        {
          "output_type": "stream",
          "name": "stdout",
          "text": [
            "Number of Nodes:  46\n",
            "Number of Edges:  55\n",
            "Average Node Degree:  2.3913043478260874\n",
            "Diameter(hops):  13\n",
            "Edge Density (Physical Connectivity):  0.05314009661835749\n",
            "Average Shortest Path Length (Hops):  5.440579710144927\n",
            "Average Clustering Coefficient:  0.11320754716981132\n"
          ]
        }
      ]
    }
  ],
  "metadata": {
    "colab": {
      "provenance": [],
      "authorship_tag": "ABX9TyNVg7M6DUJBDP8vWI4QerKd",
      "include_colab_link": true
    },
    "kernelspec": {
      "display_name": "Python 3",
      "name": "python3"
    },
    "language_info": {
      "name": "python"
    }
  },
  "nbformat": 4,
  "nbformat_minor": 0
}