{
  "nbformat": 4,
  "nbformat_minor": 0,
  "metadata": {
    "colab": {
      "provenance": [],
      "mount_file_id": "1Y3eQDw-wN2fPdUCNqxS60w8ATSkh5xYl",
      "authorship_tag": "ABX9TyMjSKoZ4vdw5OtoulUou0MJ",
      "include_colab_link": true
    },
    "kernelspec": {
      "name": "python3",
      "display_name": "Python 3"
    },
    "language_info": {
      "name": "python"
    }
  },
  "cells": [
    {
      "cell_type": "markdown",
      "metadata": {
        "id": "view-in-github",
        "colab_type": "text"
      },
      "source": [
        "<a href=\"https://colab.research.google.com/github/Karasiari/Graphs/blob/main/Graphs_intial.ipynb\" target=\"_parent\"><img src=\"https://colab.research.google.com/assets/colab-badge.svg\" alt=\"Open In Colab\"/></a>"
      ]
    },
    {
      "cell_type": "code",
      "execution_count": 5,
      "metadata": {
        "id": "JrgY9occXOKg"
      },
      "outputs": [],
      "source": [
        "import pandas as pd\n",
        "import numpy as np\n",
        "import os # Выберите, откуда тяните папку\n",
        "from google.colab import files\n",
        "\n",
        "# По папке формируем словарь графов со структурой -\n",
        "#                                                {'название графа (как в папке)':\n",
        "#                                                       {'adj_matrix': матрица смежности,\n",
        "#                                                        'traffic_matrix': матрица корреспонденций,\n",
        "#                                                        'nodes_params': {'degrees': список степеней вершин,\n",
        "#                                                                         'source_demands': список суммарного входящего траффика,\n",
        "#                                                                         'target_demands': список суммарного исходящего траффика,\n",
        "#                                                                         'sum_demands': список усредненного траффика (source + target) / 2\n",
        "#                                                                        }\n",
        "#                                                       }\n",
        "#                                                }\n",
        "\n",
        "def csv_to_graph(path, demands_path):\n",
        "  Df = pd.read_csv(path, header=None, names = ['id', 'source', 'target', 'length'])\n",
        "  Traffic = pd.read_csv(demands_path, header=None, names = ['id', 'source', 'target', 'bitrate'])\n",
        "  df = Df.iloc[1:].copy()\n",
        "  traffic = Traffic.iloc[1:].copy()\n",
        "  df['source'] = df['source'].astype(int)\n",
        "  df['target'] = df['target'].astype(int)\n",
        "  df['length'] = df['length'].astype(float)\n",
        "  traffic['source'] = traffic['source'].astype(int)\n",
        "  traffic['target'] = traffic['target'].astype(int)\n",
        "  traffic['bitrate'] = traffic['bitrate'].astype(int) // 100\n",
        "  traffic_grouped = traffic.groupby(['source', 'target']).sum().reset_index()\n",
        "\n",
        "  sources = df['source'].tolist()\n",
        "  targets = df['target'].tolist()\n",
        "  lengths = df['length'].tolist()\n",
        "\n",
        "  unique_vertices = set()\n",
        "  for source, target in zip(sources, targets):\n",
        "    unique_vertices.add(source)\n",
        "    unique_vertices.add(target)\n",
        "  vertex_mapping = {old: new for new, old in enumerate(unique_vertices)}\n",
        "  num_vertices = len(unique_vertices)\n",
        "\n",
        "  adj_matrix = np.zeros((num_vertices, num_vertices))\n",
        "  traffic_matrix = np.zeros((num_vertices, num_vertices))\n",
        "\n",
        "  for source, target, length in zip(sources, targets, lengths):\n",
        "    new_source = vertex_mapping[source]\n",
        "    new_target = vertex_mapping[target]\n",
        "    adj_matrix[new_source, new_target] = length\n",
        "    adj_matrix[new_target, new_source] = length\n",
        "\n",
        "  traffic_grouped['source'] = traffic_grouped['source'].map(vertex_mapping)\n",
        "  traffic_grouped['target'] = traffic_grouped['target'].map(vertex_mapping)\n",
        "  for _, row in traffic_grouped.iterrows():\n",
        "    traffic_matrix[row['source'], row['target']] = row['bitrate']\n",
        "\n",
        "  nodes_params = {}\n",
        "\n",
        "  degrees = list(np.count_nonzero(adj_matrix, axis=1).astype(np.float64))\n",
        "  nodes_params['degrees'] = degrees\n",
        "\n",
        "  source_demands = list(np.sum(traffic_matrix, axis=1))\n",
        "  nodes_params['source_demands'] = source_demands\n",
        "\n",
        "  target_demands = list(np.sum(traffic_matrix, axis=0))\n",
        "  nodes_params['target_demands'] = target_demands\n",
        "\n",
        "  sum_demands = [(i + j)/2 for (i,j) in zip(source_demands, target_demands)]\n",
        "  nodes_params['sum_demands'] = sum_demands\n",
        "\n",
        "  return (adj_matrix, traffic_matrix, nodes_params)\n",
        "\n",
        "def get_graphs(base_path):\n",
        "  Graphs = {}\n",
        "  csv_tables = []\n",
        "  for folder_name in os.listdir(base_path):\n",
        "    folder_path = os.path.join(base_path, folder_name)\n",
        "    csv_path = os.path.join(folder_path, 'links.csv')\n",
        "    csv_path_demands = os.path.join(folder_path, 'demands.csv')\n",
        "    csv_tables.append(folder_name)\n",
        "\n",
        "    (adj_matrix, traffic_matrix, nodes_params) = csv_to_graph(csv_path, csv_path_demands)\n",
        "    Graphs[folder_name] = {'adj_matrix': adj_matrix, 'traffic_matrix': traffic_matrix, 'nodes_params': nodes_params}\n",
        "\n",
        "  return Graphs\n",
        "\n",
        "path_to_folder = '/content/drive/MyDrive/Кола' # Свой путь\n",
        "Graphs = get_graphs(path_to_folder)"
      ]
    },
    {
      "cell_type": "code",
      "source": [
        "Graphs['cola_test60'] # Выводим пример"
      ],
      "metadata": {
        "colab": {
          "base_uri": "https://localhost:8080/"
        },
        "id": "aiSNtMMWXylp",
        "outputId": "43701880-f1d4-4f62-d415-e058549eaaaa"
      },
      "execution_count": 6,
      "outputs": [
        {
          "output_type": "execute_result",
          "data": {
            "text/plain": [
              "{'adj_matrix': array([[ 0.,  0., 60., 60., 60.],\n",
              "        [ 0.,  0., 60., 60., 60.],\n",
              "        [60., 60.,  0., 60.,  0.],\n",
              "        [60., 60., 60.,  0., 60.],\n",
              "        [60., 60.,  0., 60.,  0.]]),\n",
              " 'traffic_matrix': array([[ 0., 20.,  0.,  0.,  0.],\n",
              "        [ 0.,  0.,  0.,  0.,  0.],\n",
              "        [ 0., 20.,  0.,  0.,  0.],\n",
              "        [ 0.,  0.,  0.,  0.,  0.],\n",
              "        [20.,  0.,  0.,  0.,  0.]]),\n",
              " 'nodes_params': {'degrees': [np.float64(3.0),\n",
              "   np.float64(3.0),\n",
              "   np.float64(3.0),\n",
              "   np.float64(4.0),\n",
              "   np.float64(3.0)],\n",
              "  'source_demands': [np.float64(20.0),\n",
              "   np.float64(0.0),\n",
              "   np.float64(20.0),\n",
              "   np.float64(0.0),\n",
              "   np.float64(20.0)],\n",
              "  'target_demands': [np.float64(20.0),\n",
              "   np.float64(40.0),\n",
              "   np.float64(0.0),\n",
              "   np.float64(0.0),\n",
              "   np.float64(0.0)],\n",
              "  'sum_demands': [np.float64(20.0),\n",
              "   np.float64(20.0),\n",
              "   np.float64(10.0),\n",
              "   np.float64(0.0),\n",
              "   np.float64(10.0)]}}"
            ]
          },
          "metadata": {},
          "execution_count": 6
        }
      ]
    }
  ]
}