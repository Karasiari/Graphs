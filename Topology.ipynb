{
  "nbformat": 4,
  "nbformat_minor": 0,
  "metadata": {
    "colab": {
      "provenance": [],
      "mount_file_id": "https://github.com/Karasiari/Graphs/blob/main/Phyzzt.ipynb",
      "authorship_tag": "ABX9TyMl46jiPSuIeMMbgHlW1boc",
      "include_colab_link": true
    },
    "kernelspec": {
      "name": "python3",
      "display_name": "Python 3"
    },
    "language_info": {
      "name": "python"
    }
  },
  "cells": [
    {
      "cell_type": "markdown",
      "metadata": {
        "id": "view-in-github",
        "colab_type": "text"
      },
      "source": [
        "<a href=\"https://colab.research.google.com/github/Karasiari/Graphs/blob/main/Topology.ipynb\" target=\"_parent\"><img src=\"https://colab.research.google.com/assets/colab-badge.svg\" alt=\"Open In Colab\"/></a>"
      ]
    },
    {
      "cell_type": "code",
      "execution_count": 43,
      "metadata": {
        "colab": {
          "base_uri": "https://localhost:8080/"
        },
        "id": "T7C_CUG5p02E",
        "outputId": "d780587e-612e-4c99-cdaa-e00796e72e3e"
      },
      "outputs": [
        {
          "output_type": "stream",
          "name": "stdout",
          "text": [
            "Requirement already satisfied: networkx in /usr/local/lib/python3.11/dist-packages (3.5)\n",
            "Requirement already satisfied: openpyxl in /usr/local/lib/python3.11/dist-packages (3.1.5)\n",
            "Requirement already satisfied: et-xmlfile in /usr/local/lib/python3.11/dist-packages (from openpyxl) (2.0.0)\n"
          ]
        }
      ],
      "source": [
        "pip install networkx openpyxl"
      ]
    },
    {
      "cell_type": "code",
      "source": [
        "import networkx as netx\n",
        "import pandas as pd\n",
        "import numpy as np\n",
        "import os\n",
        "from google.colab import files\n",
        "\n",
        "from networkx import *\n",
        "\n",
        "def csv_to_graph(path):\n",
        "  Df = pd.read_csv(path, header=None, names = ['id', 'source', 'target', 'length'])\n",
        "  df = Df.iloc[1:].copy()\n",
        "  df['source'] = df['source'].astype(int)\n",
        "  df['target'] = df['target'].astype(int)\n",
        "  df['length'] = df['length'].astype(float)\n",
        "\n",
        "  sources = df['source'].tolist()\n",
        "  targets = df['target'].tolist()\n",
        "  lengths = df['length'].tolist()\n",
        "\n",
        "  unique_vertices = set()\n",
        "  for source, target in zip(sources, targets):\n",
        "    unique_vertices.add(source)\n",
        "    unique_vertices.add(target)\n",
        "  vertex_mapping = {old: new for new, old in enumerate(unique_vertices)}\n",
        "  num_vertices = len(unique_vertices)\n",
        "\n",
        "  adj_matrix = np.zeros((num_vertices, num_vertices))\n",
        "\n",
        "  for source, target, length in zip(sources, targets, lengths):\n",
        "    new_source = vertex_mapping[source]\n",
        "    new_target = vertex_mapping[target]\n",
        "    adj_matrix[new_source, new_target] = length\n",
        "    adj_matrix[new_target, new_source] = length\n",
        "\n",
        "  return adj_matrix\n",
        "\n",
        "def graph_topology(graph):\n",
        "\n",
        "  topology = []\n",
        "\n",
        "  num_nodes = graph.number_of_nodes()\n",
        "  topology.append(num_nodes)\n",
        "\n",
        "  num_edges = graph.number_of_edges()\n",
        "  topology.append(num_edges)\n",
        "\n",
        "  is_connected = netx.is_connected(graph)\n",
        "  topology.append(is_connected)\n",
        "\n",
        "  number_of_connected_components = netx.number_connected_components(graph)\n",
        "  topology.append(number_of_connected_components)\n",
        "\n",
        "  degrees = graph.degree()\n",
        "  avg_degree = np.mean(graph.degree(), axis = 0)[1]\n",
        "  topology.append(avg_degree)\n",
        "\n",
        "  if netx.is_connected(graph):\n",
        "    diameter = netx.diameter(graph)\n",
        "  else:\n",
        "    components = list(netx.connected_components(graph))\n",
        "    largest_component = max(components, key=len)\n",
        "    largest_component_subgraph = graph.subgraph(largest_component)\n",
        "    diameter = netx.diameter(largest_component_subgraph)\n",
        "  topology.append(diameter)\n",
        "\n",
        "  edge_density = netx.density(graph)\n",
        "  topology.append(edge_density)\n",
        "\n",
        "  if netx.is_connected(graph):\n",
        "    avg_shortest_path_length = netx.average_shortest_path_length(graph)\n",
        "  else:\n",
        "    components = list(netx.connected_components(graph))\n",
        "    largest_component = max(components, key=len)\n",
        "    largest_component_subgraph = graph.subgraph(largest_component)\n",
        "    avg_shortest_path_length = netx.average_shortest_path_length(largest_component_subgraph)\n",
        "  topology.append(avg_shortest_path_length)\n",
        "\n",
        "  avg_clustering_coefficient = netx.average_clustering(graph)\n",
        "  topology.append(avg_clustering_coefficient)\n",
        "\n",
        "  local_clustering = list(netx.clustering(graph).values())\n",
        "  std_clustering_coefficient = np.std(local_clustering)\n",
        "  topology.append(std_clustering_coefficient)\n",
        "\n",
        "  return topology\n",
        "\n",
        "def folder_to_graphs(base_path):\n",
        "  Output = []\n",
        "  csv_tables = []\n",
        "  for folder_name in os.listdir(base_path):\n",
        "    folder_path = os.path.join(base_path, folder_name)\n",
        "    csv_path = os.path.join(folder_path, 'links.csv')\n",
        "    csv_tables.append(folder_name)\n",
        "\n",
        "    adj_matrix = csv_to_graph(csv_path)\n",
        "    graph = netx.from_numpy_array(adj_matrix)\n",
        "\n",
        "    Output.append(graph_topology(graph))\n",
        "\n",
        "  labels = ['Number of Nodes', 'Number of Edges', 'Is Connected', 'Number of Connected Components', 'Average Node Degree', 'Diameter(hops)', 'Edge Density (Physical Connectivity)', 'Average Shortest Path Length (Hops)', 'Average Clustering Coefficient', 'Standard Deviation of Clustering Coefficient']\n",
        "  Table = pd.DataFrame(Output, index = csv_tables ,columns = labels)\n",
        "  return Table\n",
        "\n",
        "path_to_folder = '/content/drive/MyDrive/Кола'\n",
        "Table = folder_to_graphs(path_to_folder)\n",
        "Table.to_excel('Topologies.xlsx', index=True)\n",
        "files.download('Topologies.xlsx')"
      ],
      "metadata": {
        "colab": {
          "base_uri": "https://localhost:8080/",
          "height": 17
        },
        "id": "-EAmochnqFSW",
        "outputId": "4359fc02-66c4-45cb-8bc0-f23d37475a7e"
      },
      "execution_count": 51,
      "outputs": [
        {
          "output_type": "display_data",
          "data": {
            "text/plain": [
              "<IPython.core.display.Javascript object>"
            ],
            "application/javascript": [
              "\n",
              "    async function download(id, filename, size) {\n",
              "      if (!google.colab.kernel.accessAllowed) {\n",
              "        return;\n",
              "      }\n",
              "      const div = document.createElement('div');\n",
              "      const label = document.createElement('label');\n",
              "      label.textContent = `Downloading \"${filename}\": `;\n",
              "      div.appendChild(label);\n",
              "      const progress = document.createElement('progress');\n",
              "      progress.max = size;\n",
              "      div.appendChild(progress);\n",
              "      document.body.appendChild(div);\n",
              "\n",
              "      const buffers = [];\n",
              "      let downloaded = 0;\n",
              "\n",
              "      const channel = await google.colab.kernel.comms.open(id);\n",
              "      // Send a message to notify the kernel that we're ready.\n",
              "      channel.send({})\n",
              "\n",
              "      for await (const message of channel.messages) {\n",
              "        // Send a message to notify the kernel that we're ready.\n",
              "        channel.send({})\n",
              "        if (message.buffers) {\n",
              "          for (const buffer of message.buffers) {\n",
              "            buffers.push(buffer);\n",
              "            downloaded += buffer.byteLength;\n",
              "            progress.value = downloaded;\n",
              "          }\n",
              "        }\n",
              "      }\n",
              "      const blob = new Blob(buffers, {type: 'application/binary'});\n",
              "      const a = document.createElement('a');\n",
              "      a.href = window.URL.createObjectURL(blob);\n",
              "      a.download = filename;\n",
              "      div.appendChild(a);\n",
              "      a.click();\n",
              "      div.remove();\n",
              "    }\n",
              "  "
            ]
          },
          "metadata": {}
        },
        {
          "output_type": "display_data",
          "data": {
            "text/plain": [
              "<IPython.core.display.Javascript object>"
            ],
            "application/javascript": [
              "download(\"download_bde3aced-808a-4d81-92d0-009dcbdc6cae\", \"Topologies.xlsx\", 6580)"
            ]
          },
          "metadata": {}
        }
      ]
    }
  ]
}